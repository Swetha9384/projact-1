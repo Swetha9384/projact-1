{
 "cells": [
  {
   "cell_type": "markdown",
   "id": "ee5aa533",
   "metadata": {
    "papermill": {
     "duration": 0.034897,
     "end_time": "2023-04-16T16:15:58.789231",
     "exception": false,
     "start_time": "2023-04-16T16:15:58.754334",
     "status": "completed"
    },
    "tags": []
   },
   "source": [
    "*Welcome to our notebook where we will be delving into a fascinating project on predicting the placements of engineering students. We will be exploring various factors such as CGPA, internships, backlogs, gender, stream, and more to develop an accurate prediction model. Join us as we dive into the world of data analysis and machine learning to uncover insights that could potentially impact the future of engineering placements. Let's get started!*\n",
    "\n",
    "\n",
    "## Loading Tools"
   ]
  },
  {
   "cell_type": "code",
   "execution_count": 1,
   "id": "59ff9253",
   "metadata": {
    "_cell_guid": "b1076dfc-b9ad-4769-8c92-a6c4dae69d19",
    "_uuid": "8f2839f25d086af736a60e9eeb907d3b93b6e0e5",
    "execution": {
     "iopub.execute_input": "2023-04-16T16:15:58.862705Z",
     "iopub.status.busy": "2023-04-16T16:15:58.861633Z",
     "iopub.status.idle": "2023-04-16T16:15:58.867368Z",
     "shell.execute_reply": "2023-04-16T16:15:58.866539Z",
     "shell.execute_reply.started": "2023-04-07T08:43:36.723833Z"
    },
    "papermill": {
     "duration": 0.046596,
     "end_time": "2023-04-16T16:15:58.867563",
     "exception": false,
     "start_time": "2023-04-16T16:15:58.820967",
     "status": "completed"
    },
    "tags": []
   },
   "outputs": [],
   "source": [
    "import numpy as np \n",
    "import pandas as pd \n",
    "import os"
   ]
  },
  {
   "cell_type": "code",
   "execution_count": 2,
   "id": "a2a37ec0",
   "metadata": {
    "execution": {
     "iopub.execute_input": "2023-04-16T16:15:58.936262Z",
     "iopub.status.busy": "2023-04-16T16:15:58.935420Z",
     "iopub.status.idle": "2023-04-16T16:16:01.872673Z",
     "shell.execute_reply": "2023-04-16T16:16:01.871896Z",
     "shell.execute_reply.started": "2023-04-07T08:43:42.168814Z"
    },
    "papermill": {
     "duration": 2.973923,
     "end_time": "2023-04-16T16:16:01.872850",
     "exception": false,
     "start_time": "2023-04-16T16:15:58.898927",
     "status": "completed"
    },
    "tags": []
   },
   "outputs": [],
   "source": [
    "import seaborn as sns\n",
    "import matplotlib.pyplot as plt\n",
    "import plotly.express as px\n",
    "import plotly.graph_objects as go\n",
    "from plotly.subplots import make_subplots\n",
    "from sklearn import preprocessing\n",
    "from sklearn.model_selection import train_test_split\n",
    "from sklearn.linear_model import LogisticRegression\n",
    "from sklearn.ensemble import RandomForestClassifier\n",
    "from xgboost import XGBClassifier\n",
    "from sklearn.metrics import accuracy_score\n",
    "import plotly.express as px"
   ]
  },
  {
   "cell_type": "code",
   "execution_count": 3,
   "id": "bdd03270",
   "metadata": {
    "execution": {
     "iopub.execute_input": "2023-04-16T16:16:01.942300Z",
     "iopub.status.busy": "2023-04-16T16:16:01.941563Z",
     "iopub.status.idle": "2023-04-16T16:16:01.993374Z",
     "shell.execute_reply": "2023-04-16T16:16:01.993929Z",
     "shell.execute_reply.started": "2023-04-07T08:53:07.882033Z"
    },
    "papermill": {
     "duration": 0.089409,
     "end_time": "2023-04-16T16:16:01.994121",
     "exception": false,
     "start_time": "2023-04-16T16:16:01.904712",
     "status": "completed"
    },
    "tags": []
   },
   "outputs": [
    {
     "data": {
      "text/html": [
       "<div>\n",
       "<style scoped>\n",
       "    .dataframe tbody tr th:only-of-type {\n",
       "        vertical-align: middle;\n",
       "    }\n",
       "\n",
       "    .dataframe tbody tr th {\n",
       "        vertical-align: top;\n",
       "    }\n",
       "\n",
       "    .dataframe thead th {\n",
       "        text-align: right;\n",
       "    }\n",
       "</style>\n",
       "<table border=\"1\" class=\"dataframe\">\n",
       "  <thead>\n",
       "    <tr style=\"text-align: right;\">\n",
       "      <th></th>\n",
       "      <th>Age</th>\n",
       "      <th>Gender</th>\n",
       "      <th>Stream</th>\n",
       "      <th>Internships</th>\n",
       "      <th>CGPA</th>\n",
       "      <th>Hostel</th>\n",
       "      <th>HistoryOfBacklogs</th>\n",
       "      <th>PlacedOrNot</th>\n",
       "    </tr>\n",
       "  </thead>\n",
       "  <tbody>\n",
       "    <tr>\n",
       "      <th>0</th>\n",
       "      <td>22</td>\n",
       "      <td>Male</td>\n",
       "      <td>Electronics And Communication</td>\n",
       "      <td>1</td>\n",
       "      <td>8</td>\n",
       "      <td>1</td>\n",
       "      <td>1</td>\n",
       "      <td>1</td>\n",
       "    </tr>\n",
       "    <tr>\n",
       "      <th>1</th>\n",
       "      <td>21</td>\n",
       "      <td>Female</td>\n",
       "      <td>Computer Science</td>\n",
       "      <td>0</td>\n",
       "      <td>7</td>\n",
       "      <td>1</td>\n",
       "      <td>1</td>\n",
       "      <td>1</td>\n",
       "    </tr>\n",
       "    <tr>\n",
       "      <th>2</th>\n",
       "      <td>22</td>\n",
       "      <td>Female</td>\n",
       "      <td>Information Technology</td>\n",
       "      <td>1</td>\n",
       "      <td>6</td>\n",
       "      <td>0</td>\n",
       "      <td>0</td>\n",
       "      <td>1</td>\n",
       "    </tr>\n",
       "    <tr>\n",
       "      <th>3</th>\n",
       "      <td>21</td>\n",
       "      <td>Male</td>\n",
       "      <td>Information Technology</td>\n",
       "      <td>0</td>\n",
       "      <td>8</td>\n",
       "      <td>0</td>\n",
       "      <td>1</td>\n",
       "      <td>1</td>\n",
       "    </tr>\n",
       "    <tr>\n",
       "      <th>4</th>\n",
       "      <td>22</td>\n",
       "      <td>Male</td>\n",
       "      <td>Mechanical</td>\n",
       "      <td>0</td>\n",
       "      <td>8</td>\n",
       "      <td>1</td>\n",
       "      <td>0</td>\n",
       "      <td>1</td>\n",
       "    </tr>\n",
       "  </tbody>\n",
       "</table>\n",
       "</div>"
      ],
      "text/plain": [
       "   Age  Gender                         Stream  Internships  CGPA  Hostel  \\\n",
       "0   22    Male  Electronics And Communication            1     8       1   \n",
       "1   21  Female               Computer Science            0     7       1   \n",
       "2   22  Female         Information Technology            1     6       0   \n",
       "3   21    Male         Information Technology            0     8       0   \n",
       "4   22    Male                     Mechanical            0     8       1   \n",
       "\n",
       "   HistoryOfBacklogs  PlacedOrNot  \n",
       "0                  1            1  \n",
       "1                  1            1  \n",
       "2                  0            1  \n",
       "3                  1            1  \n",
       "4                  0            1  "
      ]
     },
     "execution_count": 3,
     "metadata": {},
     "output_type": "execute_result"
    }
   ],
   "source": [
    "df = pd.read_csv(\"/kaggle/input/engineering-placements-prediction/collegePlace.csv\")\n",
    "df.head()"
   ]
  },
  {
   "cell_type": "markdown",
   "id": "6b7a59c6",
   "metadata": {
    "papermill": {
     "duration": 0.031819,
     "end_time": "2023-04-16T16:16:02.059727",
     "exception": false,
     "start_time": "2023-04-16T16:16:02.027908",
     "status": "completed"
    },
    "tags": []
   },
   "source": [
    "## Basic EDA"
   ]
  },
  {
   "cell_type": "code",
   "execution_count": 4,
   "id": "811d0af5",
   "metadata": {
    "execution": {
     "iopub.execute_input": "2023-04-16T16:16:02.134481Z",
     "iopub.status.busy": "2023-04-16T16:16:02.133672Z",
     "iopub.status.idle": "2023-04-16T16:16:02.136852Z",
     "shell.execute_reply": "2023-04-16T16:16:02.137363Z",
     "shell.execute_reply.started": "2023-04-07T08:53:11.079150Z"
    },
    "papermill": {
     "duration": 0.045437,
     "end_time": "2023-04-16T16:16:02.137556",
     "exception": false,
     "start_time": "2023-04-16T16:16:02.092119",
     "status": "completed"
    },
    "tags": []
   },
   "outputs": [
    {
     "data": {
      "text/plain": [
       "(2966, 8)"
      ]
     },
     "execution_count": 4,
     "metadata": {},
     "output_type": "execute_result"
    }
   ],
   "source": [
    "df.shape"
   ]
  },
  {
   "cell_type": "code",
   "execution_count": 5,
   "id": "e2ecca68",
   "metadata": {
    "execution": {
     "iopub.execute_input": "2023-04-16T16:16:02.228745Z",
     "iopub.status.busy": "2023-04-16T16:16:02.227823Z",
     "iopub.status.idle": "2023-04-16T16:16:02.231989Z",
     "shell.execute_reply": "2023-04-16T16:16:02.231417Z",
     "shell.execute_reply.started": "2023-04-07T08:53:13.934586Z"
    },
    "papermill": {
     "duration": 0.062064,
     "end_time": "2023-04-16T16:16:02.232155",
     "exception": false,
     "start_time": "2023-04-16T16:16:02.170091",
     "status": "completed"
    },
    "tags": []
   },
   "outputs": [
    {
     "name": "stdout",
     "output_type": "stream",
     "text": [
      "<class 'pandas.core.frame.DataFrame'>\n",
      "RangeIndex: 2966 entries, 0 to 2965\n",
      "Data columns (total 8 columns):\n",
      " #   Column             Non-Null Count  Dtype \n",
      "---  ------             --------------  ----- \n",
      " 0   Age                2966 non-null   int64 \n",
      " 1   Gender             2966 non-null   object\n",
      " 2   Stream             2966 non-null   object\n",
      " 3   Internships        2966 non-null   int64 \n",
      " 4   CGPA               2966 non-null   int64 \n",
      " 5   Hostel             2966 non-null   int64 \n",
      " 6   HistoryOfBacklogs  2966 non-null   int64 \n",
      " 7   PlacedOrNot        2966 non-null   int64 \n",
      "dtypes: int64(6), object(2)\n",
      "memory usage: 185.5+ KB\n"
     ]
    }
   ],
   "source": [
    "df.info()"
   ]
  },
  {
   "cell_type": "code",
   "execution_count": 6,
   "id": "2ad40128",
   "metadata": {
    "execution": {
     "iopub.execute_input": "2023-04-16T16:16:02.309188Z",
     "iopub.status.busy": "2023-04-16T16:16:02.308339Z",
     "iopub.status.idle": "2023-04-16T16:16:02.312195Z",
     "shell.execute_reply": "2023-04-16T16:16:02.311498Z",
     "shell.execute_reply.started": "2023-04-07T08:53:16.829136Z"
    },
    "papermill": {
     "duration": 0.046412,
     "end_time": "2023-04-16T16:16:02.312360",
     "exception": false,
     "start_time": "2023-04-16T16:16:02.265948",
     "status": "completed"
    },
    "tags": []
   },
   "outputs": [
    {
     "data": {
      "text/plain": [
       "Age                  0\n",
       "Gender               0\n",
       "Stream               0\n",
       "Internships          0\n",
       "CGPA                 0\n",
       "Hostel               0\n",
       "HistoryOfBacklogs    0\n",
       "PlacedOrNot          0\n",
       "dtype: int64"
      ]
     },
     "execution_count": 6,
     "metadata": {},
     "output_type": "execute_result"
    }
   ],
   "source": [
    "df.isnull().sum()"
   ]
  },
  {
   "cell_type": "code",
   "execution_count": 7,
   "id": "221a8bd2",
   "metadata": {
    "execution": {
     "iopub.execute_input": "2023-04-16T16:16:02.389375Z",
     "iopub.status.busy": "2023-04-16T16:16:02.388338Z",
     "iopub.status.idle": "2023-04-16T16:16:02.392131Z",
     "shell.execute_reply": "2023-04-16T16:16:02.392595Z",
     "shell.execute_reply.started": "2023-04-07T08:53:19.383845Z"
    },
    "papermill": {
     "duration": 0.046304,
     "end_time": "2023-04-16T16:16:02.392785",
     "exception": false,
     "start_time": "2023-04-16T16:16:02.346481",
     "status": "completed"
    },
    "tags": []
   },
   "outputs": [
    {
     "data": {
      "text/plain": [
       "Computer Science                 776\n",
       "Information Technology           691\n",
       "Electronics And Communication    424\n",
       "Mechanical                       424\n",
       "Electrical                       334\n",
       "Civil                            317\n",
       "Name: Stream, dtype: int64"
      ]
     },
     "execution_count": 7,
     "metadata": {},
     "output_type": "execute_result"
    }
   ],
   "source": [
    "df['Stream'].value_counts()"
   ]
  },
  {
   "cell_type": "code",
   "execution_count": 8,
   "id": "a7c96e7a",
   "metadata": {
    "execution": {
     "iopub.execute_input": "2023-04-16T16:16:02.469232Z",
     "iopub.status.busy": "2023-04-16T16:16:02.468458Z",
     "iopub.status.idle": "2023-04-16T16:16:02.471528Z",
     "shell.execute_reply": "2023-04-16T16:16:02.470984Z",
     "shell.execute_reply.started": "2023-04-07T08:53:22.323822Z"
    },
    "papermill": {
     "duration": 0.044147,
     "end_time": "2023-04-16T16:16:02.471682",
     "exception": false,
     "start_time": "2023-04-16T16:16:02.427535",
     "status": "completed"
    },
    "tags": []
   },
   "outputs": [],
   "source": [
    "# Nothing just shortening the name\n",
    "\n",
    "mapping = {\"Electronics And Communication\": \"ECE\", \"Computer Science\": \"CSE\", \"Information Technology\": \"IT\", \"Mechanical\": \"MECH\", \"Civil\": \"Civil\", \"Electrical\": \"EC\"}\n",
    "\n",
    "df[\"Stream\"] = df[\"Stream\"].map(mapping)\n"
   ]
  },
  {
   "cell_type": "code",
   "execution_count": 9,
   "id": "d3b53c41",
   "metadata": {
    "execution": {
     "iopub.execute_input": "2023-04-16T16:16:02.548644Z",
     "iopub.status.busy": "2023-04-16T16:16:02.547603Z",
     "iopub.status.idle": "2023-04-16T16:16:02.551943Z",
     "shell.execute_reply": "2023-04-16T16:16:02.551339Z",
     "shell.execute_reply.started": "2023-04-07T08:53:25.613696Z"
    },
    "papermill": {
     "duration": 0.04643,
     "end_time": "2023-04-16T16:16:02.552107",
     "exception": false,
     "start_time": "2023-04-16T16:16:02.505677",
     "status": "completed"
    },
    "tags": []
   },
   "outputs": [
    {
     "data": {
      "text/plain": [
       "CSE      776\n",
       "IT       691\n",
       "ECE      424\n",
       "MECH     424\n",
       "EC       334\n",
       "Civil    317\n",
       "Name: Stream, dtype: int64"
      ]
     },
     "execution_count": 9,
     "metadata": {},
     "output_type": "execute_result"
    }
   ],
   "source": [
    "df['Stream'].value_counts()"
   ]
  },
  {
   "cell_type": "code",
   "execution_count": 10,
   "id": "4019e6b2",
   "metadata": {
    "execution": {
     "iopub.execute_input": "2023-04-16T16:16:02.628703Z",
     "iopub.status.busy": "2023-04-16T16:16:02.627979Z",
     "iopub.status.idle": "2023-04-16T16:16:02.654065Z",
     "shell.execute_reply": "2023-04-16T16:16:02.653504Z",
     "shell.execute_reply.started": "2023-04-07T08:53:28.363814Z"
    },
    "papermill": {
     "duration": 0.067644,
     "end_time": "2023-04-16T16:16:02.654225",
     "exception": false,
     "start_time": "2023-04-16T16:16:02.586581",
     "status": "completed"
    },
    "tags": []
   },
   "outputs": [
    {
     "data": {
      "text/html": [
       "<div>\n",
       "<style scoped>\n",
       "    .dataframe tbody tr th:only-of-type {\n",
       "        vertical-align: middle;\n",
       "    }\n",
       "\n",
       "    .dataframe tbody tr th {\n",
       "        vertical-align: top;\n",
       "    }\n",
       "\n",
       "    .dataframe thead th {\n",
       "        text-align: right;\n",
       "    }\n",
       "</style>\n",
       "<table border=\"1\" class=\"dataframe\">\n",
       "  <thead>\n",
       "    <tr style=\"text-align: right;\">\n",
       "      <th></th>\n",
       "      <th>Age</th>\n",
       "      <th>Internships</th>\n",
       "      <th>CGPA</th>\n",
       "      <th>Hostel</th>\n",
       "      <th>HistoryOfBacklogs</th>\n",
       "      <th>PlacedOrNot</th>\n",
       "    </tr>\n",
       "  </thead>\n",
       "  <tbody>\n",
       "    <tr>\n",
       "      <th>count</th>\n",
       "      <td>2966.000000</td>\n",
       "      <td>2966.000000</td>\n",
       "      <td>2966.000000</td>\n",
       "      <td>2966.000000</td>\n",
       "      <td>2966.000000</td>\n",
       "      <td>2966.000000</td>\n",
       "    </tr>\n",
       "    <tr>\n",
       "      <th>mean</th>\n",
       "      <td>21.485840</td>\n",
       "      <td>0.703641</td>\n",
       "      <td>7.073837</td>\n",
       "      <td>0.269049</td>\n",
       "      <td>0.192178</td>\n",
       "      <td>0.552596</td>\n",
       "    </tr>\n",
       "    <tr>\n",
       "      <th>std</th>\n",
       "      <td>1.324933</td>\n",
       "      <td>0.740197</td>\n",
       "      <td>0.967748</td>\n",
       "      <td>0.443540</td>\n",
       "      <td>0.394079</td>\n",
       "      <td>0.497310</td>\n",
       "    </tr>\n",
       "    <tr>\n",
       "      <th>min</th>\n",
       "      <td>19.000000</td>\n",
       "      <td>0.000000</td>\n",
       "      <td>5.000000</td>\n",
       "      <td>0.000000</td>\n",
       "      <td>0.000000</td>\n",
       "      <td>0.000000</td>\n",
       "    </tr>\n",
       "    <tr>\n",
       "      <th>25%</th>\n",
       "      <td>21.000000</td>\n",
       "      <td>0.000000</td>\n",
       "      <td>6.000000</td>\n",
       "      <td>0.000000</td>\n",
       "      <td>0.000000</td>\n",
       "      <td>0.000000</td>\n",
       "    </tr>\n",
       "    <tr>\n",
       "      <th>50%</th>\n",
       "      <td>21.000000</td>\n",
       "      <td>1.000000</td>\n",
       "      <td>7.000000</td>\n",
       "      <td>0.000000</td>\n",
       "      <td>0.000000</td>\n",
       "      <td>1.000000</td>\n",
       "    </tr>\n",
       "    <tr>\n",
       "      <th>75%</th>\n",
       "      <td>22.000000</td>\n",
       "      <td>1.000000</td>\n",
       "      <td>8.000000</td>\n",
       "      <td>1.000000</td>\n",
       "      <td>0.000000</td>\n",
       "      <td>1.000000</td>\n",
       "    </tr>\n",
       "    <tr>\n",
       "      <th>max</th>\n",
       "      <td>30.000000</td>\n",
       "      <td>3.000000</td>\n",
       "      <td>9.000000</td>\n",
       "      <td>1.000000</td>\n",
       "      <td>1.000000</td>\n",
       "      <td>1.000000</td>\n",
       "    </tr>\n",
       "  </tbody>\n",
       "</table>\n",
       "</div>"
      ],
      "text/plain": [
       "               Age  Internships         CGPA       Hostel  HistoryOfBacklogs  \\\n",
       "count  2966.000000  2966.000000  2966.000000  2966.000000        2966.000000   \n",
       "mean     21.485840     0.703641     7.073837     0.269049           0.192178   \n",
       "std       1.324933     0.740197     0.967748     0.443540           0.394079   \n",
       "min      19.000000     0.000000     5.000000     0.000000           0.000000   \n",
       "25%      21.000000     0.000000     6.000000     0.000000           0.000000   \n",
       "50%      21.000000     1.000000     7.000000     0.000000           0.000000   \n",
       "75%      22.000000     1.000000     8.000000     1.000000           0.000000   \n",
       "max      30.000000     3.000000     9.000000     1.000000           1.000000   \n",
       "\n",
       "       PlacedOrNot  \n",
       "count  2966.000000  \n",
       "mean      0.552596  \n",
       "std       0.497310  \n",
       "min       0.000000  \n",
       "25%       0.000000  \n",
       "50%       1.000000  \n",
       "75%       1.000000  \n",
       "max       1.000000  "
      ]
     },
     "execution_count": 10,
     "metadata": {},
     "output_type": "execute_result"
    }
   ],
   "source": [
    "df.describe()"
   ]
  },
  {
   "cell_type": "markdown",
   "id": "2ca27f8d",
   "metadata": {
    "papermill": {
     "duration": 0.034487,
     "end_time": "2023-04-16T16:16:02.724365",
     "exception": false,
     "start_time": "2023-04-16T16:16:02.689878",
     "status": "completed"
    },
    "tags": []
   },
   "source": [
    "## Checking Outliers"
   ]
  },
  {
   "cell_type": "code",
   "execution_count": 11,
   "id": "41ff26b7",
   "metadata": {
    "execution": {
     "iopub.execute_input": "2023-04-16T16:16:02.802294Z",
     "iopub.status.busy": "2023-04-16T16:16:02.801435Z",
     "iopub.status.idle": "2023-04-16T16:16:03.029670Z",
     "shell.execute_reply": "2023-04-16T16:16:03.030234Z",
     "shell.execute_reply.started": "2023-04-07T08:53:31.609247Z"
    },
    "papermill": {
     "duration": 0.271061,
     "end_time": "2023-04-16T16:16:03.030434",
     "exception": false,
     "start_time": "2023-04-16T16:16:02.759373",
     "status": "completed"
    },
    "tags": []
   },
   "outputs": [
    {
     "data": {
      "text/plain": [
       "<AxesSubplot:xlabel='Age'>"
      ]
     },
     "execution_count": 11,
     "metadata": {},
     "output_type": "execute_result"
    },
    {
     "data": {
      "image/png": "[encoded data removed]",
      "text/plain": [
       "<Figure size 1000x600 with 1 Axes>"
      ]
     },
     "metadata": {
      "needs_background": "light"
     },
     "output_type": "display_data"
    }
   ],
   "source": [
    "# I tried all the columns and find out that only age column has some outliers.\n",
    "\n",
    "plt.figure(figsize = (10, 6), dpi = 100)\n",
    "sns.boxplot(x = \"Age\", data = df)"
   ]
  },
  {
   "cell_type": "markdown",
   "id": "8bba7600",
   "metadata": {
    "papermill": {
     "duration": 0.03576,
     "end_time": "2023-04-16T16:16:03.102478",
     "exception": false,
     "start_time": "2023-04-16T16:16:03.066718",
     "status": "completed"
    },
    "tags": []
   },
   "source": [
    "## Removing Outliers"
   ]
  },
  {
   "cell_type": "code",
   "execution_count": 12,
   "id": "102b263d",
   "metadata": {
    "execution": {
     "iopub.execute_input": "2023-04-16T16:16:03.181849Z",
     "iopub.status.busy": "2023-04-16T16:16:03.181114Z",
     "iopub.status.idle": "2023-04-16T16:16:03.189213Z",
     "shell.execute_reply": "2023-04-16T16:16:03.188651Z",
     "shell.execute_reply.started": "2023-04-07T08:53:38.830208Z"
    },
    "papermill": {
     "duration": 0.050948,
     "end_time": "2023-04-16T16:16:03.189376",
     "exception": false,
     "start_time": "2023-04-16T16:16:03.138428",
     "status": "completed"
    },
    "tags": []
   },
   "outputs": [
    {
     "name": "stdout",
     "output_type": "stream",
     "text": [
      "24.0\n",
      "19.0\n"
     ]
    }
   ],
   "source": [
    "max_thresold = df['Age'].quantile(0.95)\n",
    "print(max_thresold)\n",
    "\n",
    "min_thresold = df['Age'].quantile(0.01)\n",
    "print(min_thresold)\n",
    "\n",
    "df = df[(df['Age']<max_thresold) & (df['Age']>min_thresold)]"
   ]
  },
  {
   "cell_type": "markdown",
   "id": "aebfcf58",
   "metadata": {
    "papermill": {
     "duration": 0.035985,
     "end_time": "2023-04-16T16:16:03.263204",
     "exception": false,
     "start_time": "2023-04-16T16:16:03.227219",
     "status": "completed"
    },
    "tags": []
   },
   "source": [
    "## Data Visualization"
   ]
  },
  {
   "cell_type": "code",
   "execution_count": 13,
   "id": "ac706d27",
   "metadata": {
    "execution": {
     "iopub.execute_input": "2023-04-16T16:16:03.341257Z",
     "iopub.status.busy": "2023-04-16T16:16:03.340546Z",
     "iopub.status.idle": "2023-04-16T16:16:03.581538Z",
     "shell.execute_reply": "2023-04-16T16:16:03.582040Z",
     "shell.execute_reply.started": "2023-04-07T08:53:41.848849Z"
    },
    "papermill": {
     "duration": 0.282516,
     "end_time": "2023-04-16T16:16:03.582306",
     "exception": false,
     "start_time": "2023-04-16T16:16:03.299790",
     "status": "completed"
    },
    "tags": []
   },
   "outputs": [
    {
     "data": {
      "text/plain": [
       "<AxesSubplot:xlabel='Stream', ylabel='count'>"
      ]
     },
     "execution_count": 13,
     "metadata": {},
     "output_type": "execute_result"
    },
    {
     "data": {
      "image/png": "[encoded data removed]",
      "text/plain": [
       "<Figure size 1000x600 with 1 Axes>"
      ]
     },
     "metadata": {
      "needs_background": "light"
     },
     "output_type": "display_data"
    }
   ],
   "source": [
    "plt.figure(figsize = (10, 6), dpi = 100)\n",
    "\n",
    "\n",
    "color_palette = sns.color_palette(\"Accent_r\")\n",
    "sns.set_palette(color_palette)\n",
    "\n",
    "sns.countplot(x = \"Stream\", data = df)"
   ]
  },
  {
   "cell_type": "code",
   "execution_count": 14,
   "id": "9f8be378",
   "metadata": {
    "execution": {
     "iopub.execute_input": "2023-04-16T16:16:03.669848Z",
     "iopub.status.busy": "2023-04-16T16:16:03.669042Z",
     "iopub.status.idle": "2023-04-16T16:16:03.868019Z",
     "shell.execute_reply": "2023-04-16T16:16:03.867341Z",
     "shell.execute_reply.started": "2023-04-07T08:53:49.504327Z"
    },
    "papermill": {
     "duration": 0.246313,
     "end_time": "2023-04-16T16:16:03.868207",
     "exception": false,
     "start_time": "2023-04-16T16:16:03.621894",
     "status": "completed"
    },
    "tags": []
   },
   "outputs": [
    {
     "data": {
      "image/png": "[encoded data removed]",
      "text/plain": [
       "<Figure size 1000x600 with 1 Axes>"
      ]
     },
     "metadata": {
      "needs_background": "light"
     },
     "output_type": "display_data"
    }
   ],
   "source": [
    "plt.figure(figsize = (10, 6), dpi = 100)\n",
    "\n",
    "\n",
    "color_palette = sns.color_palette(\"cool\")\n",
    "sns.set_palette(color_palette)\n",
    "\n",
    "sns.countplot(x = \"Internships\", data = df)\n",
    "plt.show()"
   ]
  },
  {
   "cell_type": "code",
   "execution_count": 15,
   "id": "894cbbe8",
   "metadata": {
    "execution": {
     "iopub.execute_input": "2023-04-16T16:16:03.950170Z",
     "iopub.status.busy": "2023-04-16T16:16:03.949390Z",
     "iopub.status.idle": "2023-04-16T16:16:04.101985Z",
     "shell.execute_reply": "2023-04-16T16:16:04.102780Z",
     "shell.execute_reply.started": "2023-04-07T08:53:53.385294Z"
    },
    "papermill": {
     "duration": 0.195686,
     "end_time": "2023-04-16T16:16:04.103068",
     "exception": false,
     "start_time": "2023-04-16T16:16:03.907382",
     "status": "completed"
    },
    "tags": []
   },
   "outputs": [
    {
     "data": {
      "image/png": "[encoded data removed]",
      "text/plain": [
       "<Figure size 1000x600 with 1 Axes>"
      ]
     },
     "metadata": {},
     "output_type": "display_data"
    }
   ],
   "source": [
    "plt.figure(figsize = (10, 6), dpi = 100)\n",
    "grp = dict(df.groupby('CGPA').groups)\n",
    "\n",
    "m = {}\n",
    "\n",
    "for key, val in grp.items():\n",
    "    \n",
    "    if key in m:\n",
    "        m[key] += len(val)\n",
    "        \n",
    "    else:\n",
    "        m[key] = len(val)\n",
    "\n",
    "    \n",
    "plt.title(\"Distribution of CGPA\")\n",
    "plt.pie(m.values(), labels = m.keys())\n",
    "plt.show()"
   ]
  },
  {
   "cell_type": "code",
   "execution_count": 16,
   "id": "d11402e4",
   "metadata": {
    "execution": {
     "iopub.execute_input": "2023-04-16T16:16:04.209152Z",
     "iopub.status.busy": "2023-04-16T16:16:04.208351Z",
     "iopub.status.idle": "2023-04-16T16:16:04.384573Z",
     "shell.execute_reply": "2023-04-16T16:16:04.384025Z",
     "shell.execute_reply.started": "2023-04-07T08:54:00.409309Z"
    },
    "papermill": {
     "duration": 0.223585,
     "end_time": "2023-04-16T16:16:04.384740",
     "exception": false,
     "start_time": "2023-04-16T16:16:04.161155",
     "status": "completed"
    },
    "tags": []
   },
   "outputs": [
    {
     "data": {
      "image/png": "[encoded data removed]",
      "text/plain": [
       "<Figure size 1000x600 with 1 Axes>"
      ]
     },
     "metadata": {
      "needs_background": "light"
     },
     "output_type": "display_data"
    }
   ],
   "source": [
    "plt.figure(figsize = (10, 6), dpi = 100)\n",
    "\n",
    "\n",
    "# setting the different color palette\n",
    "color_palette = sns.color_palette(\"Accent_r\")\n",
    "sns.set_palette(color_palette)\n",
    "\n",
    "sns.countplot(x = \"Gender\", data = df)\n",
    "\n",
    "plt.show()"
   ]
  },
  {
   "cell_type": "markdown",
   "id": "45d56098",
   "metadata": {
    "papermill": {
     "duration": 0.040501,
     "end_time": "2023-04-16T16:16:04.466241",
     "exception": false,
     "start_time": "2023-04-16T16:16:04.425740",
     "status": "completed"
    },
    "tags": []
   },
   "source": [
    "## Relationships"
   ]
  },
  {
   "cell_type": "code",
   "execution_count": 17,
   "id": "2d6ec2da",
   "metadata": {
    "execution": {
     "iopub.execute_input": "2023-04-16T16:16:04.553253Z",
     "iopub.status.busy": "2023-04-16T16:16:04.552490Z",
     "iopub.status.idle": "2023-04-16T16:16:04.830778Z",
     "shell.execute_reply": "2023-04-16T16:16:04.830106Z",
     "shell.execute_reply.started": "2023-04-07T08:54:06.158801Z"
    },
    "papermill": {
     "duration": 0.324147,
     "end_time": "2023-04-16T16:16:04.830964",
     "exception": false,
     "start_time": "2023-04-16T16:16:04.506817",
     "status": "completed"
    },
    "tags": []
   },
   "outputs": [
    {
     "data": {
      "image/png": "[encoded data removed]",
      "text/plain": [
       "<Figure size 1000x600 with 1 Axes>"
      ]
     },
     "metadata": {
      "needs_background": "light"
     },
     "output_type": "display_data"
    }
   ],
   "source": [
    "plt.figure(figsize = (10, 6), dpi = 100)\n",
    "\n",
    "\n",
    "# setting the different color palette\n",
    "color_palette = sns.color_palette(\"plasma\")\n",
    "sns.set_palette(color_palette)\n",
    "\n",
    "sns.barplot(x = \"PlacedOrNot\", y = \"Gender\", data = df)\n",
    "\n",
    "plt.show()"
   ]
  },
  {
   "cell_type": "code",
   "execution_count": 18,
   "id": "5dfbabac",
   "metadata": {
    "execution": {
     "iopub.execute_input": "2023-04-16T16:16:04.923754Z",
     "iopub.status.busy": "2023-04-16T16:16:04.923035Z",
     "iopub.status.idle": "2023-04-16T16:16:05.340926Z",
     "shell.execute_reply": "2023-04-16T16:16:05.341468Z",
     "shell.execute_reply.started": "2023-04-07T08:54:11.604029Z"
    },
    "papermill": {
     "duration": 0.469029,
     "end_time": "2023-04-16T16:16:05.341667",
     "exception": false,
     "start_time": "2023-04-16T16:16:04.872638",
     "status": "completed"
    },
    "tags": []
   },
   "outputs": [
    {
     "data": {
      "image/png": "[encoded data removed]",
      "text/plain": [
       "<Figure size 1000x600 with 1 Axes>"
      ]
     },
     "metadata": {
      "needs_background": "light"
     },
     "output_type": "display_data"
    }
   ],
   "source": [
    "plt.figure(figsize = (10, 6), dpi = 100)\n",
    "\n",
    "\n",
    "# setting the different color palette\n",
    "color_palette = sns.color_palette(\"magma\")\n",
    "sns.set_palette(color_palette)\n",
    "\n",
    "sns.barplot(x = \"Stream\", y = \"PlacedOrNot\", data = df)\n",
    "\n",
    "plt.show()"
   ]
  },
  {
   "cell_type": "markdown",
   "id": "a715a8be",
   "metadata": {
    "papermill": {
     "duration": 0.042198,
     "end_time": "2023-04-16T16:16:05.426618",
     "exception": false,
     "start_time": "2023-04-16T16:16:05.384420",
     "status": "completed"
    },
    "tags": []
   },
   "source": [
    "## Finally, how many placed?"
   ]
  },
  {
   "cell_type": "code",
   "execution_count": 19,
   "id": "b7b7d31f",
   "metadata": {
    "execution": {
     "iopub.execute_input": "2023-04-16T16:16:05.523457Z",
     "iopub.status.busy": "2023-04-16T16:16:05.522401Z",
     "iopub.status.idle": "2023-04-16T16:16:05.710003Z",
     "shell.execute_reply": "2023-04-16T16:16:05.710636Z",
     "shell.execute_reply.started": "2023-04-07T08:54:24.275006Z"
    },
    "papermill": {
     "duration": 0.237939,
     "end_time": "2023-04-16T16:16:05.710842",
     "exception": false,
     "start_time": "2023-04-16T16:16:05.472903",
     "status": "completed"
    },
    "tags": []
   },
   "outputs": [
    {
     "data": {
      "image/png": "[encoded data removed]",
      "text/plain": [
       "<Figure size 1000x600 with 1 Axes>"
      ]
     },
     "metadata": {
      "needs_background": "light"
     },
     "output_type": "display_data"
    }
   ],
   "source": [
    "plt.figure(figsize = (10, 6), dpi = 100)\n",
    "\n",
    "\n",
    "# setting the different color palette\n",
    "color_palette = sns.color_palette(\"BuGn_r\")\n",
    "sns.set_palette(color_palette)\n",
    "\n",
    "sns.countplot(x = \"PlacedOrNot\", data = df)\n",
    "\n",
    "plt.show()"
   ]
  },
  {
   "cell_type": "markdown",
   "id": "c6023252",
   "metadata": {
    "papermill": {
     "duration": 0.042981,
     "end_time": "2023-04-16T16:16:05.796722",
     "exception": false,
     "start_time": "2023-04-16T16:16:05.753741",
     "status": "completed"
    },
    "tags": []
   },
   "source": [
    "## Correlation"
   ]
  },
  {
   "cell_type": "code",
   "execution_count": 20,
   "id": "9a9c7f72",
   "metadata": {
    "execution": {
     "iopub.execute_input": "2023-04-16T16:16:05.891539Z",
     "iopub.status.busy": "2023-04-16T16:16:05.890481Z",
     "iopub.status.idle": "2023-04-16T16:16:06.397076Z",
     "shell.execute_reply": "2023-04-16T16:16:06.397640Z",
     "shell.execute_reply.started": "2023-04-07T08:54:30.064482Z"
    },
    "papermill": {
     "duration": 0.557715,
     "end_time": "2023-04-16T16:16:06.397842",
     "exception": false,
     "start_time": "2023-04-16T16:16:05.840127",
     "status": "completed"
    },
    "tags": []
   },
   "outputs": [
    {
     "data": {
      "text/plain": [
       "<AxesSubplot:>"
      ]
     },
     "execution_count": 20,
     "metadata": {},
     "output_type": "execute_result"
    },
    {
     "data": {
      "image/png": "[encoded data removed]",
      "text/plain": [
       "<Figure size 1000x600 with 2 Axes>"
      ]
     },
     "metadata": {
      "needs_background": "light"
     },
     "output_type": "display_data"
    }
   ],
   "source": [
    "plt.figure(figsize = (10, 6), dpi = 100)\n",
    "color = sns.color_palette(\"BuGn_r\")\n",
    "sns.heatmap(df.corr(), vmax=0.9, annot=True,cmap = color)"
   ]
  },
  {
   "cell_type": "markdown",
   "id": "99e3a255",
   "metadata": {
    "papermill": {
     "duration": 0.046418,
     "end_time": "2023-04-16T16:16:06.489981",
     "exception": false,
     "start_time": "2023-04-16T16:16:06.443563",
     "status": "completed"
    },
    "tags": []
   },
   "source": [
    "It can be seen from the above graph that the CGPA is the most important feature among all."
   ]
  },
  {
   "cell_type": "markdown",
   "id": "ee8e740b",
   "metadata": {
    "papermill": {
     "duration": 0.045793,
     "end_time": "2023-04-16T16:16:06.582068",
     "exception": false,
     "start_time": "2023-04-16T16:16:06.536275",
     "status": "completed"
    },
    "tags": []
   },
   "source": [
    "## Model 1: RandomForestClassifier\n",
    "\n",
    "Transforming Categorical variables into numerical. Because RandomForestClassifier Works only with numerical data."
   ]
  },
  {
   "cell_type": "code",
   "execution_count": 21,
   "id": "feea2606",
   "metadata": {
    "execution": {
     "iopub.execute_input": "2023-04-16T16:16:06.676385Z",
     "iopub.status.busy": "2023-04-16T16:16:06.675611Z",
     "iopub.status.idle": "2023-04-16T16:16:06.682579Z",
     "shell.execute_reply": "2023-04-16T16:16:06.683180Z",
     "shell.execute_reply.started": "2023-04-07T08:54:37.204331Z"
    },
    "papermill": {
     "duration": 0.055962,
     "end_time": "2023-04-16T16:16:06.683439",
     "exception": false,
     "start_time": "2023-04-16T16:16:06.627477",
     "status": "completed"
    },
    "tags": []
   },
   "outputs": [],
   "source": [
    "le = preprocessing.LabelEncoder()\n",
    "\n",
    "df[\"Gender\"] = le.fit_transform(df[\"Gender\"])\n",
    "df[\"Stream\"] = le.fit_transform(df[\"Stream\"])"
   ]
  },
  {
   "cell_type": "code",
   "execution_count": 22,
   "id": "e9141fc5",
   "metadata": {
    "execution": {
     "iopub.execute_input": "2023-04-16T16:16:06.778216Z",
     "iopub.status.busy": "2023-04-16T16:16:06.777469Z",
     "iopub.status.idle": "2023-04-16T16:16:07.020502Z",
     "shell.execute_reply": "2023-04-16T16:16:07.019889Z",
     "shell.execute_reply.started": "2023-04-07T08:54:42.008884Z"
    },
    "papermill": {
     "duration": 0.291412,
     "end_time": "2023-04-16T16:16:07.020660",
     "exception": false,
     "start_time": "2023-04-16T16:16:06.729248",
     "status": "completed"
    },
    "tags": []
   },
   "outputs": [],
   "source": [
    "X=df[['Age', 'Gender', 'Internships', 'CGPA', 'Hostel',\n",
    "       'HistoryOfBacklogs', 'Stream']]\n",
    "y= df[\"PlacedOrNot\"]\n",
    "\n",
    "x_train, x_test, y_train, y_test = train_test_split(X,y, test_size=0.30, random_state=100)\n",
    "\n",
    "clff = RandomForestClassifier().fit(x_train,y_train)\n",
    "\n",
    "pred = clff.predict(x_test)"
   ]
  },
  {
   "cell_type": "markdown",
   "id": "7bca27b4",
   "metadata": {
    "papermill": {
     "duration": 0.045226,
     "end_time": "2023-04-16T16:16:07.112636",
     "exception": false,
     "start_time": "2023-04-16T16:16:07.067410",
     "status": "completed"
    },
    "tags": []
   },
   "source": [
    "## Accuracy of RandomForestClassifier"
   ]
  },
  {
   "cell_type": "code",
   "execution_count": 23,
   "id": "f9106d5d",
   "metadata": {
    "execution": {
     "iopub.execute_input": "2023-04-16T16:16:07.209669Z",
     "iopub.status.busy": "2023-04-16T16:16:07.208626Z",
     "iopub.status.idle": "2023-04-16T16:16:07.213764Z",
     "shell.execute_reply": "2023-04-16T16:16:07.214275Z",
     "shell.execute_reply.started": "2023-04-07T08:54:46.028992Z"
    },
    "papermill": {
     "duration": 0.055903,
     "end_time": "2023-04-16T16:16:07.214492",
     "exception": false,
     "start_time": "2023-04-16T16:16:07.158589",
     "status": "completed"
    },
    "tags": []
   },
   "outputs": [
    {
     "data": {
      "text/plain": [
       "0.8818998716302953"
      ]
     },
     "execution_count": 23,
     "metadata": {},
     "output_type": "execute_result"
    }
   ],
   "source": [
    "acc = accuracy_score(y_test, pred)\n",
    "acc"
   ]
  },
  {
   "cell_type": "markdown",
   "id": "61acad90",
   "metadata": {
    "papermill": {
     "duration": 0.046562,
     "end_time": "2023-04-16T16:16:07.307192",
     "exception": false,
     "start_time": "2023-04-16T16:16:07.260630",
     "status": "completed"
    },
    "tags": []
   },
   "source": [
    "## Model 2: CatBoostClassifier"
   ]
  },
  {
   "cell_type": "code",
   "execution_count": 24,
   "id": "ccb803cb",
   "metadata": {
    "execution": {
     "iopub.execute_input": "2023-04-16T16:16:07.409136Z",
     "iopub.status.busy": "2023-04-16T16:16:07.408246Z",
     "iopub.status.idle": "2023-04-16T16:16:07.784417Z",
     "shell.execute_reply": "2023-04-16T16:16:07.785153Z",
     "shell.execute_reply.started": "2023-04-07T08:54:49.824398Z"
    },
    "papermill": {
     "duration": 0.431541,
     "end_time": "2023-04-16T16:16:07.785348",
     "exception": false,
     "start_time": "2023-04-16T16:16:07.353807",
     "status": "completed"
    },
    "tags": []
   },
   "outputs": [
    {
     "name": "stdout",
     "output_type": "stream",
     "text": [
      "0:\tlearn: 0.6410786\ttotal: 56.9ms\tremaining: 227ms\n",
      "1:\tlearn: 0.5947409\ttotal: 57.7ms\tremaining: 86.5ms\n",
      "2:\tlearn: 0.5558258\ttotal: 58ms\tremaining: 38.7ms\n",
      "3:\tlearn: 0.5267040\ttotal: 58.5ms\tremaining: 14.6ms\n",
      "4:\tlearn: 0.5015275\ttotal: 58.8ms\tremaining: 0us\n"
     ]
    }
   ],
   "source": [
    "from catboost import CatBoostClassifier\n",
    "\n",
    "X = df[['Age', 'Gender', 'Internships', 'CGPA', 'Hostel',\n",
    "       'HistoryOfBacklogs', 'Stream']]\n",
    "\n",
    "y = df[\"PlacedOrNot\"]\n",
    "\n",
    "x_train, x_test, y_train, y_test = train_test_split(X,y, test_size=0.30, random_state=100)\n",
    "\n",
    "clf = CatBoostClassifier(\n",
    "    \n",
    "    iterations = 5, \n",
    "    learning_rate = 0.1, \n",
    "    loss_function='CrossEntropy',\n",
    "    \n",
    ").fit(x_train, y_train)\n",
    "\n",
    "\n",
    "pred = clf.predict(x_test)\n"
   ]
  },
  {
   "cell_type": "markdown",
   "id": "d5e2f750",
   "metadata": {
    "papermill": {
     "duration": 0.045981,
     "end_time": "2023-04-16T16:16:07.877442",
     "exception": false,
     "start_time": "2023-04-16T16:16:07.831461",
     "status": "completed"
    },
    "tags": []
   },
   "source": [
    "## Accuracy of CatBoostClassifier"
   ]
  },
  {
   "cell_type": "code",
   "execution_count": 25,
   "id": "27f18449",
   "metadata": {
    "execution": {
     "iopub.execute_input": "2023-04-16T16:16:07.974330Z",
     "iopub.status.busy": "2023-04-16T16:16:07.973329Z",
     "iopub.status.idle": "2023-04-16T16:16:07.980456Z",
     "shell.execute_reply": "2023-04-16T16:16:07.981058Z",
     "shell.execute_reply.started": "2023-04-07T08:54:54.803545Z"
    },
    "papermill": {
     "duration": 0.057277,
     "end_time": "2023-04-16T16:16:07.981248",
     "exception": false,
     "start_time": "2023-04-16T16:16:07.923971",
     "status": "completed"
    },
    "tags": []
   },
   "outputs": [
    {
     "data": {
      "text/plain": [
       "0.8741976893453145"
      ]
     },
     "execution_count": 25,
     "metadata": {},
     "output_type": "execute_result"
    }
   ],
   "source": [
    "acc = accuracy_score(y_test, pred)\n",
    "acc"
   ]
  },
  {
   "cell_type": "markdown",
   "id": "244dd981",
   "metadata": {
    "papermill": {
     "duration": 0.046018,
     "end_time": "2023-04-16T16:16:08.073804",
     "exception": false,
     "start_time": "2023-04-16T16:16:08.027786",
     "status": "completed"
    },
    "tags": []
   },
   "source": [
    "## Conclusion\n",
    "\n",
    "In this project, we utilize two powerful machine learning models - Random Forest and CatBoost - to predict placements of engineering students. We apply various techniques such as outlier detection and removal, correlation analysis, and categorical variable encoding to preprocess the data and improve model performance. Additionally, we conduct in-depth data analysis and visualization to gain deeper insights into the data. Feel free to experiment with other models or tune hyperparameters to further enhance the model's accuracy. Let's dive in and keep exploring! 🚀\n",
    "\n",
    "### Thanks for reading this notebook. Upvote it if you found it useful 😇.\n",
    "### Checkout my other notebooks 🙃\n",
    "* [XGBoost V/S LightGBM](https://www.kaggle.com/code/neesham/xgboost-v-s-lightgbm)\n",
    "* [🔥 Pandas V/S SQL](https://www.kaggle.com/code/neesham/pandas-v-s-sql)\n",
    "* [🔥 Transformers for Beginners (P1)](https://www.kaggle.com/code/neesham/transformers-for-beginners-p1)"
   ]
  }
 ],
 "metadata": {
  "kernelspec": {
   "display_name": "Python 3",
   "language": "python",
   "name": "python3"
  },
  "language_info": {
   "codemirror_mode": {
    "name": "ipython",
    "version": 3
   },
   "file_extension": ".py",
   "mimetype": "text/x-python",
   "name": "python",
   "nbconvert_exporter": "python",
   "pygments_lexer": "ipython3",
   "version": "3.7.12"
  },
  "papermill": {
   "default_parameters": {},
   "duration": 20.368432,
   "end_time": "2023-04-16T16:16:09.032814",
   "environment_variables": {},
   "exception": null,
   "input_path": "__notebook__.ipynb",
   "output_path": "__notebook__.ipynb",
   "parameters": {},
   "start_time": "2023-04-16T16:15:48.664382",
   "version": "2.3.3"
  }
 },
 "nbformat": 4,
 "nbformat_minor": 5
}
